{
 "cells": [
  {
   "cell_type": "markdown",
   "metadata": {},
   "source": [
    "``cv2.kmeans`` Syntax: \n",
    "\n",
    "``retval, bestlabels, centers = cv2.kmeans(data, k, bestLabels, criteria, attempts, flags[, centers])`` "
   ]
  },
  {
   "cell_type": "markdown",
   "metadata": {},
   "source": [
    "``criteria`` is a set of tuple of three parameters\n",
    "\n",
    "- ``type`` Type of termination criteria. It has three flags\n",
    "\n",
    "    - ``cv2.TERM_CRITERIA_EPS``, Algorithm stops when the specified accuracy i.e., ``epsilon`` reached\n",
    "    \n",
    "    - ``cv2.TERM_CRITERIA_MAX_ITER`` Algorithm stops when the specified number of iterations ``max_iter`` is reached.\n",
    "\n",
    "    - ``cv2.TERM_CRITERIA_EPS + cv2.TERM_CRITERIA_MAX_ITER`` Algorithm stops when any of the two condition is reached.\n",
    "\n",
    "- ``max_iter`` Maximum number of iteration\n",
    "- ``epsilon`` Required accuracy\n",
    "\n",
    "``attempts`` specifies the number of times the algorithm is executed using different initial labelings\n",
    "\n",
    "``flags`` specifies how initial centers are taken\n",
    "\n",
    "- ``cv2.KMEANS_RANDOM_CENTERS`` flag selects random initial centers in each attempt\n",
    "- ``cv2.KMEANS_PP_CENTERS`` flag uses the k-means++ center initialization "
   ]
  },
  {
   "cell_type": "markdown",
   "metadata": {},
   "source": [
    "Return Values are:\n",
    "\n",
    "- ``bestLabels`` An integer array that stores the cluster indices for each sample\n",
    "\n",
    "- ``centers`` An array that contains the center for each cluster\n",
    "\n",
    "- ``compactness`` The sum of the squared distance from each point to their corresponding centers."
   ]
  },
  {
   "cell_type": "code",
   "execution_count": 12,
   "metadata": {},
   "outputs": [],
   "source": [
    "import cv2\n",
    "import numpy as np \n",
    "import matplotlib.pyplot as plt"
   ]
  },
  {
   "cell_type": "code",
   "execution_count": 13,
   "metadata": {},
   "outputs": [],
   "source": [
    "#creating data with three different clusters\n",
    "\n",
    "data = np.float32(np.vstack(\n",
    "    (np.random.randint(0, 40, (50, 2)), np.random.randint(30, 70, (50, 2)), np.random.randint(60, 100, (50, 2)))))"
   ]
  },
  {
   "cell_type": "code",
   "execution_count": 14,
   "metadata": {},
   "outputs": [],
   "source": [
    "#Defining the CRITERIA\n",
    "\n",
    "criteria = (cv2.TERM_CRITERIA_EPS + cv2.TERM_CRITERIA_MAX_ITER, 20, 1.0)"
   ]
  },
  {
   "cell_type": "code",
   "execution_count": 15,
   "metadata": {},
   "outputs": [],
   "source": [
    "#Applying K-MEANS\n",
    "#k =3, attempt = 10\n",
    "\n",
    "ret, label, center = cv2.kmeans(data, 2, None, criteria, 10, cv2.KMEANS_RANDOM_CENTERS)"
   ]
  },
  {
   "cell_type": "code",
   "execution_count": 16,
   "metadata": {},
   "outputs": [],
   "source": [
    "#Now separating the data using label layout (stores the cluster indices for every sample)\n",
    "#Therefore, we split the data to different clusters depending on their labels\n",
    "\n",
    "A = data[label.ravel() == 0]\n",
    "B = data[label.ravel() == 1]"
   ]
  },
  {
   "cell_type": "code",
   "execution_count": 17,
   "metadata": {},
   "outputs": [
    {
     "data": {
      "text/plain": [
       "<Figure size 1080x1440 with 0 Axes>"
      ]
     },
     "metadata": {},
     "output_type": "display_data"
    }
   ],
   "source": [
    "fig = plt.figure(figsize=(15, 20))\n",
    "plt.suptitle(\"K-Means Clustering\")\n",
    "plt.rcParams['figure.facecolor'] = \"silver\""
   ]
  },
  {
   "cell_type": "code",
   "execution_count": 18,
   "metadata": {},
   "outputs": [
    {
     "data": {
      "image/png": "[encoded data removed]",
      "text/plain": [
       "<Figure size 432x288 with 1 Axes>"
      ]
     },
     "metadata": {},
     "output_type": "display_data"
    }
   ],
   "source": [
    "ax = plt.subplot(1, 2, 2)\n",
    "plt.scatter(A[:, 0], A[:, 1], c = 'b')\n",
    "plt.scatter(B[:, 0], B[:, 1], c = 'g')\n",
    "plt.scatter(center[:, 0], center[:, 1], s =100, c = 'm', marker='s')\n",
    "plt.title(\"Clustered Data and Centroid (K =2)\")\n",
    "\n",
    "plt.subplots_adjust(top=3,bottom=1.5, right=2, left=0.2, wspace=0.3, hspace=0.3)\n",
    "plt.show()"
   ]
  },
  {
   "cell_type": "code",
   "execution_count": null,
   "metadata": {},
   "outputs": [],
   "source": []
  }
 ],
 "metadata": {
  "kernelspec": {
   "display_name": "Python 3",
   "language": "python",
   "name": "python3"
  },
  "language_info": {
   "codemirror_mode": {
    "name": "ipython",
    "version": 3
   },
   "file_extension": ".py",
   "mimetype": "text/x-python",
   "name": "python",
   "nbconvert_exporter": "python",
   "pygments_lexer": "ipython3",
   "version": "3.9.9"
  }
 },
 "nbformat": 4,
 "nbformat_minor": 2
}
