{
 "cells": [
  {
   "cell_type": "markdown",
   "metadata": {},
   "source": [
    "__Handwritten Digits Recognition__ using __SVM__ and __HoG features__ and varying the number of\n",
    "training/testing images with pre-processing of the images. \n",
    "A _grid-search_ on __C__ and __gamma__ is also carried out.\n"
   ]
  },
  {
   "cell_type": "code",
   "execution_count": 16,
   "metadata": {},
   "outputs": [],
   "source": [
    "import cv2\n",
    "import numpy as np\n",
    "import matplotlib.pyplot as plt\n",
    "from collections import defaultdict"
   ]
  },
  {
   "cell_type": "code",
   "execution_count": 17,
   "metadata": {},
   "outputs": [],
   "source": [
    "# Constants:\n",
    "SIZE_IMAGE = 20\n",
    "NUMBER_CLASSES = 10\n",
    "\n",
    "\n",
    "def load_digits_and_labels(big_image):\n",
    "    \"\"\" Returns all the digits from the 'big' image and creates the corresponding labels for each image\"\"\"\n",
    "\n",
    "    # Load the 'big' image containing all the digits:\n",
    "    digits_img = cv2.imread(big_image, 0)\n",
    "\n",
    "    # Get all the digit images from the 'big' image:\n",
    "    number_rows = digits_img.shape[1] / SIZE_IMAGE\n",
    "    rows = np.vsplit(digits_img, digits_img.shape[0] / SIZE_IMAGE)\n",
    "\n",
    "    digits = []\n",
    "    for row in rows:\n",
    "        row_cells = np.hsplit(row, number_rows)\n",
    "        for digit in row_cells:\n",
    "            digits.append(digit)\n",
    "    digits = np.array(digits)\n",
    "\n",
    "    # Create the labels for each image:\n",
    "    labels = np.repeat(np.arange(NUMBER_CLASSES), len(digits) / NUMBER_CLASSES)\n",
    "    return digits, labels\n",
    "\n",
    "\n",
    "def deskew(img):\n",
    "    \"\"\"Pre-processing of the images\"\"\"\n",
    "\n",
    "    m = cv2.moments(img)\n",
    "    if abs(m['mu02']) < 1e-2:\n",
    "        return img.copy()\n",
    "    skew = m['mu11'] / m['mu02']\n",
    "    M = np.float32([[1, skew, -0.5 * SIZE_IMAGE * skew], [0, 1, 0]])\n",
    "    img = cv2.warpAffine(img, M, (SIZE_IMAGE, SIZE_IMAGE), flags=cv2.WARP_INVERSE_MAP | cv2.INTER_LINEAR)\n",
    "    return img"
   ]
  },
  {
   "cell_type": "code",
   "execution_count": 18,
   "metadata": {},
   "outputs": [],
   "source": [
    "def svm_init(C=12.5, gamma=0.50625):\n",
    "    \"\"\"Creates empty model and assigns main parameters\"\"\"\n",
    "\n",
    "    model = cv2.ml.SVM_create()\n",
    "    model.setGamma(gamma)\n",
    "    model.setC(C)\n",
    "    model.setKernel(cv2.ml.SVM_RBF)\n",
    "    model.setType(cv2.ml.SVM_C_SVC)\n",
    "    model.setTermCriteria((cv2.TERM_CRITERIA_MAX_ITER, 100, 1e-6))\n",
    "\n",
    "    return model\n",
    "\n",
    "\n",
    "def svm_train(model, samples, responses):\n",
    "    \"\"\"Returns the trained SVM model based on the samples and responses\"\"\"\n",
    "\n",
    "    model.train(samples, cv2.ml.ROW_SAMPLE, responses)\n",
    "    return model\n",
    "\n",
    "\n",
    "def svm_predict(model, samples):\n",
    "    \"\"\"Returns the predictions\"\"\"\n",
    "\n",
    "    return model.predict(samples)[1].ravel()\n",
    "\n",
    "\n",
    "def svm_evaluate(model, samples, labels):\n",
    "    \"\"\"Returns SVM evaluation (accuracy)\"\"\"\n",
    "\n",
    "    predictions = svm_predict(model, samples)\n",
    "    accuracy = (labels == predictions).mean()\n",
    "    # print('Percentage Accuracy: %.2f %%' % (accuracy * 100))\n",
    "    return accuracy * 100"
   ]
  },
  {
   "cell_type": "code",
   "execution_count": 19,
   "metadata": {},
   "outputs": [],
   "source": [
    "def get_hog():\n",
    "    # cv2.HOGDescriptor(winSize, blockSize, blockStride, cellSize, nbins, derivAperture, winSigma, histogramNormType,\n",
    "    # L2HysThreshold, gammaCorrection, nlevels, signedGradient)\n",
    "    hog = cv2.HOGDescriptor((SIZE_IMAGE, SIZE_IMAGE), (8, 8), (4, 4), (8, 8), 9, 1, -1, 0, 0.2, 1, 64, True)\n",
    "\n",
    "    print(\"get descriptor size: {}\".format(hog.getDescriptorSize()))\n",
    "    return hog\n",
    "\n",
    "\n",
    "def raw_pixels(img):\n",
    "    return img.flatten()"
   ]
  },
  {
   "cell_type": "code",
   "execution_count": 20,
   "metadata": {},
   "outputs": [],
   "source": [
    "# Loading all the digits and the corresponding labels:\n",
    "digits, labels = load_digits_and_labels('images/digits.png')\n",
    "\n",
    "# Shuffling data\n",
    "# Constructs a random number generator:\n",
    "rand = np.random.RandomState(1234)\n",
    "# Randomly permute the sequence:\n",
    "shuffle = rand.permutation(len(digits))\n",
    "digits, labels = digits[shuffle], labels[shuffle]"
   ]
  },
  {
   "cell_type": "code",
   "execution_count": 21,
   "metadata": {},
   "outputs": [
    {
     "name": "stdout",
     "output_type": "stream",
     "text": [
      "get descriptor size: 144\n"
     ]
    }
   ],
   "source": [
    "# HoG feature descriptor:\n",
    "hog = get_hog()\n",
    "\n",
    "# Compute the descriptors for all the images.\n",
    "# In this case, the HoG descriptor is calculated\n",
    "hog_descriptors = []\n",
    "for img in digits:\n",
    "    hog_descriptors.append(hog.compute(deskew(img)))\n",
    "hog_descriptors = np.squeeze(hog_descriptors)\n",
    "\n",
    "# At this point we split the data into training and testing (50% for each one):\n",
    "partition = int(0.9 * len(hog_descriptors))\n",
    "hog_descriptors_train, hog_descriptors_test = np.split(hog_descriptors, [partition])\n",
    "labels_train, labels_test = np.split(labels, [partition])"
   ]
  },
  {
   "cell_type": "code",
   "execution_count": 22,
   "metadata": {},
   "outputs": [
    {
     "name": "stdout",
     "output_type": "stream",
     "text": [
      "Training SVM model ...\n",
      "Accuracy (C=1.00, Gamma=0.1) 98.8\n",
      "Accuracy (C=1.00, Gamma=0.3) 98.8\n",
      "Accuracy (C=1.00, Gamma=0.5) 98.2\n",
      "Accuracy (C=1.00, Gamma=0.7) 98.4\n",
      "Accuracy (C=1.00, Gamma=0.9) 98.4\n",
      "Accuracy (C=1.00, Gamma=1.1) 98.4\n",
      "Accuracy (C=1.00, Gamma=1.3) 98.4\n",
      "Accuracy (C=1.00, Gamma=1.5) 98.2\n",
      "Accuracy (C=10.00, Gamma=0.1) 99.2\n",
      "Accuracy (C=10.00, Gamma=0.3) 99.2\n",
      "Accuracy (C=10.00, Gamma=0.5) 99.0\n",
      "Accuracy (C=10.00, Gamma=0.7) 98.8\n",
      "Accuracy (C=10.00, Gamma=0.9) 98.6\n",
      "Accuracy (C=10.00, Gamma=1.1) 98.4\n",
      "Accuracy (C=10.00, Gamma=1.3) 98.4\n",
      "Accuracy (C=10.00, Gamma=1.5) 98.4\n",
      "Accuracy (C=100.00, Gamma=0.1) 98.8\n",
      "Accuracy (C=100.00, Gamma=0.3) 99.2\n",
      "Accuracy (C=100.00, Gamma=0.5) 99.0\n",
      "Accuracy (C=100.00, Gamma=0.7) 98.8\n",
      "Accuracy (C=100.00, Gamma=0.9) 98.6\n",
      "Accuracy (C=100.00, Gamma=1.1) 98.4\n",
      "Accuracy (C=100.00, Gamma=1.3) 98.4\n",
      "Accuracy (C=100.00, Gamma=1.5) 98.4\n",
      "Accuracy (C=1000.00, Gamma=0.1) 98.8\n",
      "Accuracy (C=1000.00, Gamma=0.3) 99.2\n",
      "Accuracy (C=1000.00, Gamma=0.5) 99.0\n",
      "Accuracy (C=1000.00, Gamma=0.7) 98.8\n",
      "Accuracy (C=1000.00, Gamma=0.9) 98.6\n",
      "Accuracy (C=1000.00, Gamma=1.1) 98.4\n",
      "Accuracy (C=1000.00, Gamma=1.3) 98.4\n",
      "Accuracy (C=1000.00, Gamma=1.5) 98.4\n"
     ]
    },
    {
     "data": {
      "image/png": "[encoded data removed]",
      "text/plain": [
       "<Figure size 720x432 with 1 Axes>"
      ]
     },
     "metadata": {},
     "output_type": "display_data"
    }
   ],
   "source": [
    "print('Training SVM model ...')\n",
    "# Create a dictionary to store the accuracy when testing:\n",
    "results = defaultdict(list)\n",
    "\n",
    "for C in [1, 10, 100, 1000]:\n",
    "    for gamma in [0.1, 0.3, 0.5, 0.7, 0.9, 1.1, 1.3, 1.5]:\n",
    "        model = svm_init(C, gamma)\n",
    "        svm_train(model, hog_descriptors_train, labels_train)\n",
    "        acc = svm_evaluate(model, hog_descriptors_test, labels_test)\n",
    "        print(\"Accuracy (C={}, Gamma={}) {}\".format(\"%.2f\" % C, gamma, acc))\n",
    "        results[C].append(acc)\n",
    "\n",
    "# Create the dimensions of the figure and set title:\n",
    "fig = plt.figure(figsize=(10, 6))\n",
    "plt.suptitle(\"SVM handwritten digits recognition\", fontsize=14, fontweight='bold')\n",
    "fig.patch.set_facecolor('silver')\n",
    "\n",
    "# Show all results using matplotlib capabilities:\n",
    "ax = plt.subplot(1, 1, 1)\n",
    "ax.set_xlim(0, 1.5)\n",
    "dim = [0.1, 0.3, 0.5, 0.7, 0.9, 1.1, 1.3, 1.5]\n",
    "\n",
    "for key in results:\n",
    "    ax.plot(dim, results[key], linestyle='--', marker='o', label=str(key))\n",
    "\n",
    "plt.legend(loc='upper left', title=\"C\")\n",
    "plt.title('Accuracy of the SVM model varying both C and gamma')\n",
    "plt.xlabel(\"gamma\")\n",
    "plt.ylabel(\"accuracy\")\n",
    "plt.show()"
   ]
  }
 ],
 "metadata": {
  "kernelspec": {
   "display_name": "Python 3",
   "language": "python",
   "name": "python3"
  },
  "language_info": {
   "codemirror_mode": {
    "name": "ipython",
    "version": 3
   },
   "file_extension": ".py",
   "mimetype": "text/x-python",
   "name": "python",
   "nbconvert_exporter": "python",
   "pygments_lexer": "ipython3",
   "version": "3.9.9"
  }
 },
 "nbformat": 4,
 "nbformat_minor": 2
}
