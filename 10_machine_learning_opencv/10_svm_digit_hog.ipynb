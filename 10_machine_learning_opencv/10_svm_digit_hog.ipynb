{
 "cells": [
  {
   "cell_type": "code",
   "execution_count": 32,
   "metadata": {},
   "outputs": [],
   "source": [
    "import cv2 \n",
    "import numpy as np \n",
    "import matplotlib.pyplot as plt "
   ]
  },
  {
   "cell_type": "code",
   "execution_count": 33,
   "metadata": {},
   "outputs": [],
   "source": [
    "SIZE_IMAGE = 20\n",
    "NUM_CLASSES = 10\n",
    "\n",
    "def load_digits_and_labels(big_image):\n",
    "    \"\"\"Returns all the digits and create respective labels\"\"\"\n",
    "\n",
    "    digits_img = cv2.imread(big_image, 0)\n",
    "\n",
    "    # Get all the digit images from the 'big' image:\n",
    "    number_rows = digits_img.shape[1] / SIZE_IMAGE\n",
    "    rows = np.vsplit(digits_img, digits_img.shape[0] / SIZE_IMAGE)\n",
    "\n",
    "    digits = []\n",
    "    for row in rows:\n",
    "        row_cells = np.hsplit(row, number_rows)\n",
    "        for digit in row_cells:\n",
    "            digits.append(digit)\n",
    "    digits = np.array(digits)\n",
    "\n",
    "    # Create the labels for each image:\n",
    "    labels = np.repeat(np.arange(NUM_CLASSES), len(digits) / NUM_CLASSES)\n",
    "    return digits, labels"
   ]
  },
  {
   "cell_type": "code",
   "execution_count": 34,
   "metadata": {},
   "outputs": [],
   "source": [
    "def deskew(img):\n",
    "    \"\"\"Pre-processing of the images\"\"\"\n",
    "\n",
    "    m = cv2.moments(img)\n",
    "    if abs(m['mu02']) < 1e-2:\n",
    "        return img.copy()\n",
    "    skew = m['mu11'] / m['mu02']\n",
    "    M = np.float32([[1, skew, -0.5 * SIZE_IMAGE * skew],[0, 1,0]])\n",
    "    img = cv2.warpAffine(img, M, (SIZE_IMAGE, SIZE_IMAGE), flags=cv2.WARP_INVERSE_MAP | cv2.INTER_LINEAR)\n",
    "    return img"
   ]
  },
  {
   "cell_type": "code",
   "execution_count": 35,
   "metadata": {},
   "outputs": [],
   "source": [
    "def svm_init(C=12.5, gamma=0.50625):\n",
    "    \"\"\"Creates empty model and assigns main parameters\"\"\"\n",
    "\n",
    "    model = cv2.ml.SVM_create()\n",
    "    model.setGamma(gamma)\n",
    "    model.setC(C)\n",
    "    model.setKernel(cv2.ml.SVM_RBF)\n",
    "    model.setType(cv2.ml.SVM_C_SVC)\n",
    "    model.setTermCriteria((cv2.TERM_CRITERIA_MAX_ITER, 100, 1e-6))\n",
    "\n",
    "    return model"
   ]
  },
  {
   "cell_type": "code",
   "execution_count": 36,
   "metadata": {},
   "outputs": [],
   "source": [
    "def svm_train(model, samples, responses):\n",
    "    \"\"\"Train the model using the samples and the responses\"\"\"\n",
    "\n",
    "    model.train(samples, cv2.ml.ROW_SAMPLE, responses)\n",
    "    return model"
   ]
  },
  {
   "cell_type": "code",
   "execution_count": 37,
   "metadata": {},
   "outputs": [],
   "source": [
    "def svm_predict(model, samples):\n",
    "    \"\"\"Predicts the response based on the trained model\"\"\"\n",
    "\n",
    "    return model.predict(samples)[1].ravel()"
   ]
  },
  {
   "cell_type": "code",
   "execution_count": 38,
   "metadata": {},
   "outputs": [],
   "source": [
    "def svm_evaluate(model, samples, labels):\n",
    "    \"\"\"Calculates the accuracy of the trained model\"\"\"\n",
    "\n",
    "    predictions = svm_predict(model, samples)\n",
    "    accuracy = (labels == predictions).mean()\n",
    "    print(\"Percentage Accuracy: %.2f %%\" %(accuracy * 100))"
   ]
  },
  {
   "cell_type": "code",
   "execution_count": 39,
   "metadata": {},
   "outputs": [],
   "source": [
    "def get_hog():\n",
    "    \"\"\"Get Hog Descriptor\"\"\"\n",
    "    hog = cv2.HOGDescriptor((SIZE_IMAGE, SIZE_IMAGE), (8, 8), (4, 4), (8, 8), 9, 1, -1, 0, 0.2, 1, 64, True)\n",
    "\n",
    "    print(\"Get Descriptor Size: {}\".format(hog.getDescriptorSize()))\n",
    "    return hog"
   ]
  },
  {
   "cell_type": "code",
   "execution_count": 40,
   "metadata": {},
   "outputs": [],
   "source": [
    "def raw_pixels(img):\n",
    "    return img.flatten()"
   ]
  },
  {
   "cell_type": "code",
   "execution_count": 41,
   "metadata": {},
   "outputs": [
    {
     "name": "stdout",
     "output_type": "stream",
     "text": [
      "Get Descriptor Size: 144\n"
     ]
    }
   ],
   "source": [
    "# Load all the digits and the corresponding labels:\n",
    "digits, labels = load_digits_and_labels('images/digits.png')\n",
    "\n",
    "# Shuffle data\n",
    "# Constructs a random number generator:\n",
    "rand = np.random.RandomState(1234)\n",
    "# Randomly permute the sequence:\n",
    "shuffle = rand.permutation(len(digits))\n",
    "digits, labels = digits[shuffle], labels[shuffle]\n",
    "\n",
    "# HoG feature descriptor:\n",
    "hog = get_hog()"
   ]
  },
  {
   "cell_type": "code",
   "execution_count": 42,
   "metadata": {},
   "outputs": [],
   "source": [
    "#Computing the DESCRIPTORS for all the image\n",
    "\n",
    "hog_descriptors = []\n",
    "\n",
    "for img in digits:\n",
    "    hog_descriptors.append(hog.compute(deskew(img)))\n",
    "hog_descriptors = np.squeeze(hog_descriptors)\n",
    "\n",
    "#Splitting data \n",
    "partition = int(0.5 * len(hog_descriptors))\n",
    "hog_descriptors_train, hog_descriptors_test = np.split(hog_descriptors, [partition])\n",
    "labels_train, labels_test = np.split(labels ,[partition])"
   ]
  },
  {
   "cell_type": "code",
   "execution_count": 43,
   "metadata": {},
   "outputs": [
    {
     "name": "stdout",
     "output_type": "stream",
     "text": [
      "Training SVM model ...\n",
      "Evaluating model ... \n",
      "Percentage Accuracy: 98.60 %\n"
     ]
    }
   ],
   "source": [
    "print('Training SVM model ...')\n",
    "model = svm_init(C=12.5, gamma=0.50625)\n",
    "svm_train(model, hog_descriptors_train, labels_train)\n",
    "\n",
    "print('Evaluating model ... ')\n",
    "svm_evaluate(model, hog_descriptors_test, labels_test)"
   ]
  }
 ],
 "metadata": {
  "kernelspec": {
   "display_name": "Python 3",
   "language": "python",
   "name": "python3"
  },
  "language_info": {
   "codemirror_mode": {
    "name": "ipython",
    "version": 3
   },
   "file_extension": ".py",
   "mimetype": "text/x-python",
   "name": "python",
   "nbconvert_exporter": "python",
   "pygments_lexer": "ipython3",
   "version": "3.9.9"
  }
 },
 "nbformat": 4,
 "nbformat_minor": 2
}
