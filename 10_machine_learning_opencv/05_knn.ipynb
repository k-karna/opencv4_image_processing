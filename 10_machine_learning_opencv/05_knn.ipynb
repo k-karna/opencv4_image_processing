{
 "cells": [
  {
   "cell_type": "markdown",
   "metadata": {},
   "source": [
    "__K-Nearest Neighbour__ Syntax :\n",
    "\n",
    "``retval, results, neighborResponses, dist = cv2.ml_KNearest.findNearest(samples, k[, results], neighborResponses[,dist])``\n",
    "\n",
    "- ``samples`` is the input samples stores by rows\n",
    "- ``k`` number of nearest neighbor\n",
    "- ``results`` store the predictions for each input sample\n",
    "- ``neighborResponses`` stores the corresponding neighbor\n",
    "- ``dist`` stores the distance from the input samples to the corresponding neighbors"
   ]
  },
  {
   "cell_type": "code",
   "execution_count": 168,
   "metadata": {},
   "outputs": [],
   "source": [
    "import cv2 \n",
    "import numpy as np \n",
    "import matplotlib.pyplot as plt"
   ]
  },
  {
   "cell_type": "code",
   "execution_count": 169,
   "metadata": {},
   "outputs": [],
   "source": [
    "#Data is composed of 16 points \n",
    "data = np.random.randint(0, 100, (16, 2)).astype(np.float32)\n",
    "\n",
    "#Creating the label (0:RED, 1:BLUE) for each of the 16 points\n",
    "labels = np.random.randint(0, 2, (16, 1)).astype(np.float32)\n",
    "\n",
    "#creating the sample points to be classified\n",
    "sample = np.random.randint(0, 100, (1, 2)).astype(np.float32)"
   ]
  },
  {
   "cell_type": "code",
   "execution_count": 170,
   "metadata": {},
   "outputs": [],
   "source": [
    "#Intantiating K-NN\n",
    "knn = cv2.ml.KNearest_create()"
   ]
  },
  {
   "cell_type": "code",
   "execution_count": 171,
   "metadata": {},
   "outputs": [],
   "source": [
    "#Training K-NN\n",
    "knn.train(data, cv2.ml.ROW_SAMPLE, labels)\n",
    "\n",
    "#K-NN find Nearest\n",
    "k = 3\n",
    "ret, results, neighbours, dist = knn.findNearest(sample, k)"
   ]
  },
  {
   "cell_type": "code",
   "execution_count": 172,
   "metadata": {},
   "outputs": [
    {
     "data": {
      "image/png": "[encoded data removed]",
      "text/plain": [
       "<Figure size 720x432 with 1 Axes>"
      ]
     },
     "metadata": {},
     "output_type": "display_data"
    }
   ],
   "source": [
    "fig = plt.figure(figsize=(10, 6))\n",
    "plt.rcParams['figure.facecolor'] = 'silver'\n",
    "\n",
    "\n",
    "#take points with label 0 (will be the red triangle) and plot them:\n",
    "red_triangle = data[labels.ravel() == 0]\n",
    "plt.scatter(red_triangle[:, 0], red_triangle[:, 1], 200, 'r','^')\n",
    "\n",
    "\n",
    "#take points with label 1 (will be BLUE squares) and plot them\n",
    "blue_square = data[labels.ravel() ==1]\n",
    "plt.scatter(blue_square[:, 0], blue_square[:, 1], 200, 'b', 's')\n",
    "\n",
    "#plt the sample points\n",
    "plt.scatter(sample[:, 0], sample[:, 1], 200, 'g','o')\n",
    "\n",
    "#setting the title\n",
    "\n",
    "if results[0][0] >0:\n",
    "    plt.suptitle(\"K-NN sample green point is classified as blue (k =\" + str(k) +\")\")\n",
    "else:\n",
    "    plt.suptitle(\"K-NN sample green point is classified as RED (k =\" + str(k) +\")\")"
   ]
  },
  {
   "cell_type": "code",
   "execution_count": 173,
   "metadata": {},
   "outputs": [
    {
     "name": "stdout",
     "output_type": "stream",
     "text": [
      "Result: [[1.]]\n",
      "Neighbours: [[1. 0. 1.]]\n",
      "Distance: [[149. 361. 425.]]\n"
     ]
    }
   ],
   "source": [
    "print(\"Result: {}\".format(results))\n",
    "print(\"Neighbours: {}\".format(neighbours))\n",
    "print(\"Distance: {}\".format(dist))"
   ]
  },
  {
   "cell_type": "markdown",
   "metadata": {},
   "source": [
    "-----------------------"
   ]
  },
  {
   "cell_type": "markdown",
   "metadata": {},
   "source": [
    "__HANDWRITTEN DIGITS RECOGNITION__ with __K-NN__"
   ]
  },
  {
   "cell_type": "code",
   "execution_count": 174,
   "metadata": {},
   "outputs": [],
   "source": [
    "#constant\n",
    "SIZE_IMAGE = 20\n",
    "NUM_CLASSES = 10"
   ]
  },
  {
   "cell_type": "code",
   "execution_count": 175,
   "metadata": {},
   "outputs": [],
   "source": [
    "def load_digits_and_labels(big_image):\n",
    "    \"\"\"Returns all the digits from the 'big' image and creates the corresponding labels for each image\"\"\"\n",
    "\n",
    "    # Load the 'big' image containing all the digits:\n",
    "    digits_img = cv2.imread(big_image, 0)\n",
    "\n",
    "    # Get all the digit images from the 'big' image:\n",
    "    number_rows = digits_img.shape[1] // SIZE_IMAGE\n",
    "    rows = np.vsplit(digits_img, digits_img.shape[0] // SIZE_IMAGE)\n",
    "\n",
    "    digits = []\n",
    "    for row in rows:\n",
    "        row_cells = np.hsplit(row, number_rows)\n",
    "        for digit in row_cells:\n",
    "            digits.append(digit)\n",
    "    digits = np.array(digits)\n",
    "\n",
    "    # Create the labels for each image:\n",
    "    labels = np.repeat(np.arange(NUM_CLASSES), len(digits) / NUM_CLASSES)\n",
    "    return digits, labels"
   ]
  },
  {
   "cell_type": "code",
   "execution_count": 176,
   "metadata": {},
   "outputs": [],
   "source": [
    "def get_accuracy(predictions, labels):\n",
    "    \"\"\"Returns the accuracy based on the coincidences between predictions and labels \"\"\"\n",
    "\n",
    "    accuracy = (np.squeeze(predictions) == labels).mean()\n",
    "    return accuracy * 100"
   ]
  },
  {
   "cell_type": "code",
   "execution_count": 177,
   "metadata": {},
   "outputs": [],
   "source": [
    "def raw_pixels(img):\n",
    "    \"\"\"Returns raw pixels as feature from the image \"\"\"\n",
    "\n",
    "    return img.flatten()"
   ]
  },
  {
   "cell_type": "code",
   "execution_count": 178,
   "metadata": {},
   "outputs": [],
   "source": [
    "#Load all the digits and the corresponding labels\n",
    "digits, labels = load_digits_and_labels('images/digits.png')"
   ]
  },
  {
   "cell_type": "code",
   "execution_count": 179,
   "metadata": {},
   "outputs": [],
   "source": [
    "#Shuffle data\n",
    "# Constructs a random number generator:\n",
    "rand = np.random.RandomState(1234)\n",
    "# Randomly permute the sequence:\n",
    "shuffle = rand.permutation(len(digits))\n",
    "digits, labels = digits[shuffle], labels[shuffle]"
   ]
  },
  {
   "cell_type": "code",
   "execution_count": 180,
   "metadata": {},
   "outputs": [],
   "source": [
    "# Compute the descriptors for all the images.\n",
    "# In this case, the raw pixels are the feature descriptors\n",
    "raw_descriptors = []\n",
    "for img in digits:\n",
    "    raw_descriptors.append(np.float32(raw_pixels(img)))\n",
    "raw_descriptors = np.squeeze(raw_descriptors)\n",
    "\n",
    "# At this point we split the data into training and testing (50% for each one):\n",
    "partition = int(0.5 * len(raw_descriptors))\n",
    "raw_descriptors_train, raw_descriptors_test = np.split(raw_descriptors, [partition])\n",
    "labels_train, labels_test = np.split(labels, [partition])"
   ]
  },
  {
   "cell_type": "code",
   "execution_count": 181,
   "metadata": {},
   "outputs": [
    {
     "name": "stdout",
     "output_type": "stream",
     "text": [
      "Training KNN model - raw pixels as features\n"
     ]
    },
    {
     "name": "stdout",
     "output_type": "stream",
     "text": [
      "Accuracy: 92.60000000000001\n"
     ]
    }
   ],
   "source": [
    "# Train the KNN model:\n",
    "print('Training KNN model - raw pixels as features')\n",
    "knn = cv2.ml.KNearest_create()\n",
    "knn.train(raw_descriptors_train, cv2.ml.ROW_SAMPLE, labels_train)\n",
    "\n",
    "# Test the created model:\n",
    "k = 5\n",
    "ret, result, neighbours, dist = knn.findNearest(raw_descriptors_test, k)\n",
    "\n",
    "# Compute the accuracy:\n",
    "acc = get_accuracy(result, labels_test)\n",
    "print(\"Accuracy: {}\".format(acc))"
   ]
  }
 ],
 "metadata": {
  "kernelspec": {
   "display_name": "Python 3",
   "language": "python",
   "name": "python3"
  },
  "language_info": {
   "codemirror_mode": {
    "name": "ipython",
    "version": 3
   },
   "file_extension": ".py",
   "mimetype": "text/x-python",
   "name": "python",
   "nbconvert_exporter": "python",
   "pygments_lexer": "ipython3",
   "version": "3.9.9"
  }
 },
 "nbformat": 4,
 "nbformat_minor": 2
}
