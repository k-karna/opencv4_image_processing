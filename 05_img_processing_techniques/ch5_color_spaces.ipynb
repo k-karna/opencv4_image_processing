{
 "cells": [
  {
   "cell_type": "code",
   "execution_count": 101,
   "metadata": {},
   "outputs": [],
   "source": [
    "import cv2 \n",
    "import matplotlib.pyplot as plt"
   ]
  },
  {
   "cell_type": "code",
   "execution_count": 102,
   "metadata": {},
   "outputs": [
    {
     "data": {
      "text/plain": [
       "Text(0.5, 0.98, 'Color Spaces in OpenCV')"
      ]
     },
     "execution_count": 102,
     "metadata": {},
     "output_type": "execute_result"
    },
    {
     "data": {
      "text/plain": [
       "<Figure size 1080x576 with 0 Axes>"
      ]
     },
     "metadata": {},
     "output_type": "display_data"
    }
   ],
   "source": [
    "def show_with_plt(color_img, title, pos):\n",
    "\n",
    "    img_RGB = color_img[:, :, ::-1]\n",
    "\n",
    "    ax = plt.subplot(1, 3, pos)\n",
    "    plt.imshow(img_RGB)\n",
    "    plt.title(title)\n",
    "    plt.axis(\"off\")\n",
    "\n",
    "plt.figure(figsize=(15, 8))\n",
    "plt.suptitle(\"Color Spaces in OpenCV\", fontsize=14, fontweight=\"bold\")"
   ]
  },
  {
   "cell_type": "code",
   "execution_count": 103,
   "metadata": {},
   "outputs": [
    {
     "data": {
      "image/png": "[encoded data removed]",
      "text/plain": [
       "<Figure size 432x288 with 1 Axes>"
      ]
     },
     "metadata": {
      "needs_background": "light"
     },
     "output_type": "display_data"
    }
   ],
   "source": [
    "image = cv2.imread(\"images/color_spaces.png\")\n",
    "# Show all the created components:\n",
    "show_with_plt(image, \"Original image\", 1)"
   ]
  },
  {
   "cell_type": "code",
   "execution_count": 104,
   "metadata": {},
   "outputs": [
    {
     "data": {
      "image/png": "[encoded data removed]",
      "text/plain": [
       "<Figure size 432x288 with 1 Axes>"
      ]
     },
     "metadata": {
      "needs_background": "light"
     },
     "output_type": "display_data"
    }
   ],
   "source": [
    "#Converting to grayscale\n",
    "\n",
    "gray_image = cv2.cvtColor(image, cv2.COLOR_BGR2GRAY)\n",
    "show_with_plt(cv2.cvtColor(gray_image, cv2.COLOR_GRAY2BGR), \"gray image\", 1)"
   ]
  },
  {
   "cell_type": "code",
   "execution_count": 105,
   "metadata": {},
   "outputs": [
    {
     "data": {
      "image/png": "[encoded data removed]",
      "text/plain": [
       "<Figure size 432x288 with 3 Axes>"
      ]
     },
     "metadata": {
      "needs_background": "light"
     },
     "output_type": "display_data"
    }
   ],
   "source": [
    "#getting the B, G, R components\n",
    "bgr_b, bgr_g, bgr_r = cv2.split(image)\n",
    "\n",
    "# Show bgr components:\n",
    "show_with_plt(cv2.cvtColor(bgr_b, cv2.COLOR_GRAY2BGR), \"BGR - B comp\", 1)\n",
    "show_with_plt(cv2.cvtColor(bgr_g, cv2.COLOR_GRAY2BGR), \"BGR - G comp\", 2)\n",
    "show_with_plt(cv2.cvtColor(bgr_r, cv2.COLOR_GRAY2BGR), \"BGR - R comp\", 3)"
   ]
  },
  {
   "cell_type": "markdown",
   "metadata": {},
   "source": [
    "``HSV`` is __Hue__, __Saturation__, and __Value__\n",
    "\n",
    "``HLS`` is __Hue__, __Lightness__, and __Saturation__. In both, only __Hue__ is for color"
   ]
  },
  {
   "cell_type": "code",
   "execution_count": 106,
   "metadata": {},
   "outputs": [],
   "source": [
    "hsv_imge = cv2.cvtColor(image, cv2.COLOR_BGR2HSV)\n",
    "(hsv_h, hsv_s, hsv_v) = cv2.split(hsv_imge)"
   ]
  },
  {
   "cell_type": "code",
   "execution_count": 107,
   "metadata": {},
   "outputs": [
    {
     "data": {
      "image/png": "[encoded data removed]",
      "text/plain": [
       "<Figure size 432x288 with 3 Axes>"
      ]
     },
     "metadata": {
      "needs_background": "light"
     },
     "output_type": "display_data"
    }
   ],
   "source": [
    "# Show hsv components:\n",
    "show_with_plt(cv2.cvtColor(hsv_h, cv2.COLOR_GRAY2BGR), \"HSV - H comp\", 1)\n",
    "show_with_plt(cv2.cvtColor(hsv_s, cv2.COLOR_GRAY2BGR), \"HSV - S comp\", 2)\n",
    "show_with_plt(cv2.cvtColor(hsv_v, cv2.COLOR_GRAY2BGR), \"HSV - V comp\", 3)"
   ]
  },
  {
   "cell_type": "code",
   "execution_count": 108,
   "metadata": {},
   "outputs": [],
   "source": [
    "hls_image = cv2.cvtColor(image, cv2.COLOR_BGR2HLS)\n",
    "(hls_h, hls_l, hls_s) = cv2.split(hls_image)"
   ]
  },
  {
   "cell_type": "code",
   "execution_count": 109,
   "metadata": {},
   "outputs": [
    {
     "data": {
      "image/png": "[encoded data removed]",
      "text/plain": [
       "<Figure size 432x288 with 3 Axes>"
      ]
     },
     "metadata": {
      "needs_background": "light"
     },
     "output_type": "display_data"
    }
   ],
   "source": [
    "# Show hls components:\n",
    "show_with_plt(cv2.cvtColor(hls_h, cv2.COLOR_GRAY2BGR), \"HLS - H comp\", 1)\n",
    "show_with_plt(cv2.cvtColor(hls_l, cv2.COLOR_GRAY2BGR), \"HLS - L comp\", 2)\n",
    "show_with_plt(cv2.cvtColor(hls_s, cv2.COLOR_GRAY2BGR), \"HLS - S comp\", 3)\n"
   ]
  },
  {
   "cell_type": "markdown",
   "metadata": {},
   "source": [
    "``CIELAB`` color space (also known as ``CIE L*a*b`` or simply LAB)\n",
    "represents a specific color as three numerical values, where ``L*`` represents the\n",
    "lightness, ``a*`` represents the green-red components, and ``b*`` represents the\n",
    "blue-yellow components"
   ]
  },
  {
   "cell_type": "markdown",
   "metadata": {},
   "source": [
    "``YCbCr`` represent colors in terms of the chroma components __(Y)__ and two chrominance components/chroma (__Cb__ and __Cr__)."
   ]
  },
  {
   "cell_type": "code",
   "execution_count": 110,
   "metadata": {},
   "outputs": [],
   "source": [
    "lab_image = cv2.cvtColor(image, cv2.COLOR_BGR2LAB)\n",
    "(lab_l, lab_a, lab_b) = cv2.split(lab_image)"
   ]
  },
  {
   "cell_type": "code",
   "execution_count": 111,
   "metadata": {},
   "outputs": [
    {
     "data": {
      "image/png": "[encoded data removed]",
      "text/plain": [
       "<Figure size 432x288 with 3 Axes>"
      ]
     },
     "metadata": {
      "needs_background": "light"
     },
     "output_type": "display_data"
    }
   ],
   "source": [
    "# Show lab components:\n",
    "show_with_plt(cv2.cvtColor(lab_l, cv2.COLOR_GRAY2BGR), \"L*a*b - L comp\", 1)\n",
    "show_with_plt(cv2.cvtColor(lab_a, cv2.COLOR_GRAY2BGR), \"L*a*b - a comp\", 2)\n",
    "show_with_plt(cv2.cvtColor(lab_b, cv2.COLOR_GRAY2BGR), \"L*a*b - b comp\", 3)"
   ]
  },
  {
   "cell_type": "code",
   "execution_count": 112,
   "metadata": {},
   "outputs": [],
   "source": [
    "ycrcb_image = cv2.cvtColor(image, cv2.COLOR_BGR2YCrCb)\n",
    "(ycrcb_y, ycrcb_cr, ycrcb_cb) = cv2.split(ycrcb_image)"
   ]
  },
  {
   "cell_type": "code",
   "execution_count": 113,
   "metadata": {},
   "outputs": [
    {
     "data": {
      "image/png": "[encoded data removed]",
      "text/plain": [
       "<Figure size 432x288 with 3 Axes>"
      ]
     },
     "metadata": {
      "needs_background": "light"
     },
     "output_type": "display_data"
    }
   ],
   "source": [
    "# Show ycrcb components:\n",
    "show_with_plt(cv2.cvtColor(ycrcb_y, cv2.COLOR_GRAY2BGR), \"YCrCb - Y comp\", 1)\n",
    "show_with_plt(cv2.cvtColor(ycrcb_cr, cv2.COLOR_GRAY2BGR), \"YCrCb - Cr comp\",2)\n",
    "show_with_plt(cv2.cvtColor(ycrcb_cb, cv2.COLOR_GRAY2BGR), \"YCrCb - Cb comp\",3)"
   ]
  }
 ],
 "metadata": {
  "kernelspec": {
   "display_name": "Python 3",
   "language": "python",
   "name": "python3"
  },
  "language_info": {
   "codemirror_mode": {
    "name": "ipython",
    "version": 3
   },
   "file_extension": ".py",
   "mimetype": "text/x-python",
   "name": "python",
   "nbconvert_exporter": "python",
   "pygments_lexer": "ipython3",
   "version": "3.9.9"
  }
 },
 "nbformat": 4,
 "nbformat_minor": 2
}
