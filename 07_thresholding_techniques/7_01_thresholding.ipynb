{
 "cells": [
  {
   "cell_type": "code",
   "execution_count": 1,
   "metadata": {},
   "outputs": [],
   "source": [
    "import numpy as np \n",
    "import cv2 \n",
    "import matplotlib.pyplot as plt"
   ]
  },
  {
   "cell_type": "code",
   "execution_count": 2,
   "metadata": {},
   "outputs": [],
   "source": [
    "def build_sample_image():\n",
    "    \"\"\" \n",
    "    Builds a sample image with 50x50 region of different tones of GRAY \n",
    "    \"\"\"\n",
    "\n",
    "    tones = np.arange(start=50, stop=300, step=50)\n",
    "    #print(tones)\n",
    "\n",
    "    #initialize result with the first 50x50 region with 0-intensity level\n",
    "    result = np.zeros((50, 50, 3), dtype=\"uint8\")\n",
    "\n",
    "    #build the image concatenating horizontally the region\n",
    "    for tone in tones:\n",
    "        img = np.ones((50, 50, 3), dtype=\"uint8\") * tone\n",
    "        result = np.concatenate((result, img), axis=1)\n",
    "\n",
    "    return result"
   ]
  },
  {
   "cell_type": "code",
   "execution_count": 3,
   "metadata": {},
   "outputs": [],
   "source": [
    "def img_plt(color_img, title, pos):\n",
    "    \"\"\"Shows an image using matplotlib capabilities\"\"\"\n",
    "\n",
    "    # Convert BGR image to RGB\n",
    "    img_RGB = color_img[:, :, ::-1]\n",
    "\n",
    "    ax = plt.subplot(7, 1, pos)\n",
    "    plt.imshow(img_RGB)\n",
    "    plt.title(title)\n",
    "    plt.axis('off')"
   ]
  },
  {
   "cell_type": "code",
   "execution_count": 4,
   "metadata": {},
   "outputs": [
    {
     "data": {
      "text/plain": [
       "<Figure size 1080x1080 with 0 Axes>"
      ]
     },
     "metadata": {},
     "output_type": "display_data"
    }
   ],
   "source": [
    "fig = plt.figure(figsize=(15, 15))\n",
    "plt.rcParams['figure.facecolor'] = 'silver'"
   ]
  },
  {
   "cell_type": "code",
   "execution_count": 5,
   "metadata": {},
   "outputs": [],
   "source": [
    "#Loading the image and converting it to grayscale\n",
    "\n",
    "image = build_sample_image()\n",
    "gray_image = cv2.cvtColor(image, cv2.COLOR_BGR2GRAY)"
   ]
  },
  {
   "cell_type": "markdown",
   "metadata": {},
   "source": [
    "Applying __Threshold__ with different values"
   ]
  },
  {
   "cell_type": "code",
   "execution_count": 6,
   "metadata": {},
   "outputs": [],
   "source": [
    "ret1, thresh1 = cv2.threshold(gray_image, 0, 255, cv2.THRESH_BINARY)\n",
    "ret2, thresh2 = cv2.threshold(gray_image, 50, 255, cv2.THRESH_BINARY)\n",
    "ret3, thresh3 = cv2.threshold(gray_image, 100, 255, cv2.THRESH_BINARY)\n",
    "ret4, thresh4 = cv2.threshold(gray_image, 150, 255, cv2.THRESH_BINARY)\n",
    "ret5, thresh5 = cv2.threshold(gray_image, 200, 255, cv2.THRESH_BINARY)\n",
    "ret6, thresh6 = cv2.threshold(gray_image, 250, 255, cv2.THRESH_BINARY)"
   ]
  },
  {
   "cell_type": "code",
   "execution_count": 7,
   "metadata": {},
   "outputs": [
    {
     "data": {
      "image/png": "[encoded data removed]",
      "text/plain": [
       "<Figure size 432x288 with 7 Axes>"
      ]
     },
     "metadata": {},
     "output_type": "display_data"
    }
   ],
   "source": [
    "img_plt(cv2.cvtColor(gray_image, cv2.COLOR_GRAY2BGR),\"img with tones of gray - left to right: (0,50,100,150,200,250)\", 1)\n",
    "\n",
    "img_plt(cv2.cvtColor(thresh1, cv2.COLOR_GRAY2BGR), \"Threshold = 0\",2)\n",
    "img_plt(cv2.cvtColor(thresh2, cv2.COLOR_GRAY2BGR), \"Threshold = 50\", 3)\n",
    "img_plt(cv2.cvtColor(thresh3, cv2.COLOR_GRAY2BGR), \"Threshold = 100\", 4)\n",
    "img_plt(cv2.cvtColor(thresh4, cv2.COLOR_GRAY2BGR), \"Threshold = 150\", 5)\n",
    "img_plt(cv2.cvtColor(thresh5, cv2.COLOR_GRAY2BGR), \"Threshold = 200\", 6)\n",
    "img_plt(cv2.cvtColor(thresh6, cv2.COLOR_GRAY2BGR), \"Threshold = 250\", 7)\n",
    "\n",
    "plt.subplots_adjust(top=1.3, right=2, left=1, wspace=0.9, hspace=0.9)\n",
    "fig.patch.set_alpha(0.7)\n",
    "plt.show()\n"
   ]
  },
  {
   "cell_type": "code",
   "execution_count": null,
   "metadata": {},
   "outputs": [],
   "source": []
  }
 ],
 "metadata": {
  "kernelspec": {
   "display_name": "Python 3",
   "language": "python",
   "name": "python3"
  },
  "language_info": {
   "codemirror_mode": {
    "name": "ipython",
    "version": 3
   },
   "file_extension": ".py",
   "mimetype": "text/x-python",
   "name": "python",
   "nbconvert_exporter": "python",
   "pygments_lexer": "ipython3",
   "version": "3.9.9"
  }
 },
 "nbformat": 4,
 "nbformat_minor": 2
}
