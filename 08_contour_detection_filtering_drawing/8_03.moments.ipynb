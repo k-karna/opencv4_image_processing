{
 "cells": [
  {
   "cell_type": "markdown",
   "metadata": {},
   "source": [
    "Image __Moment__ is a weighted average of image pixel intensities. \n",
    "\n",
    "It is useful to describe some propertiees of the detected contours."
   ]
  },
  {
   "cell_type": "markdown",
   "metadata": {},
   "source": [
    "Three types of moments:\n",
    "\n",
    "- Spatial moments\n",
    "\n",
    "- Central Moments invariant with respect to translations. Suitable for describing form of objects. \n",
    "\n",
    "(Both __Spatial and Central Moemnts are not scale invariant__)\n",
    "\n",
    "- Normalized Central Moments - invaraint to both scale and translation"
   ]
  },
  {
   "cell_type": "code",
   "execution_count": 40,
   "metadata": {},
   "outputs": [],
   "source": [
    "import numpy as np\n",
    "import matplotlib.pyplot as plt \n",
    "import cv2"
   ]
  },
  {
   "cell_type": "code",
   "execution_count": 41,
   "metadata": {},
   "outputs": [],
   "source": [
    "def aspect_ratio(contour):\n",
    "\n",
    "    \"\"\"Returns the aspect ratio of the contour based on the dimensions of the bounding act\"\"\"\n",
    "\n",
    "    x, y, w, h = cv2.boundingRect(contour)\n",
    "\n",
    "    result = float(w) /h \n",
    "    return result"
   ]
  },
  {
   "cell_type": "markdown",
   "metadata": {},
   "source": [
    "__Roundness__ is a measure of how closely a contour approachaes the contour of a perfect circle"
   ]
  },
  {
   "cell_type": "code",
   "execution_count": 42,
   "metadata": {},
   "outputs": [],
   "source": [
    "def roundedness(contour, moments):\n",
    "\n",
    "    \"\"\"Calculates the Roundness of Contour\"\"\"\n",
    "\n",
    "    length = cv2.arcLength(contour, True)\n",
    "    k = (length * length) / (moments['m00'] * 4 * np.pi)\n",
    "\n",
    "    return k"
   ]
  },
  {
   "cell_type": "markdown",
   "metadata": {},
   "source": [
    "Eccentricity is a measure of how elongated a contour can be."
   ]
  },
  {
   "cell_type": "code",
   "execution_count": 43,
   "metadata": {},
   "outputs": [],
   "source": [
    "def eccentricity_from_ellipse(contour):\n",
    "\n",
    "    \"\"\"Calculates the eccentricity fitting an ellipse from a contour\"\"\"\n",
    "\n",
    "    (x, y), (MA, ma), angle = cv2.fitEllipse(contour)\n",
    "\n",
    "    a = ma /2\n",
    "    b = MA /2\n",
    "    \n",
    "    ecc = np.sqrt(a ** 2 - b **2) /a \n",
    "    return ecc "
   ]
  },
  {
   "cell_type": "code",
   "execution_count": 44,
   "metadata": {},
   "outputs": [],
   "source": [
    "def eccentricity_from_moments(moments):\n",
    "    \"\"\"Calculates the eccentricity from the moments of the contour \"\"\"\n",
    "\n",
    "    a1 = (moments['mu20'] + moments['mu02']) /2\n",
    "    a2 = np.sqrt(4 * moments['mu11'] **2 + (moments['mu20']) ** 2) /2\n",
    "    ecc = np.sqrt(1 - (a1-a2) / (a1+a2))\n",
    "\n",
    "    return ecc"
   ]
  },
  {
   "cell_type": "code",
   "execution_count": 45,
   "metadata": {},
   "outputs": [],
   "source": [
    "def get_one_contour():\n",
    "\n",
    "    \"\"\"Returns a fixed Contour\"\"\"\n",
    "\n",
    "    counts = [np.array(\n",
    "        [[[600, 320]], [[563, 460]], [[460, 562]], [[320, 600]], [[180, 563]], [[78, 460]], [[40, 320]], [[77, 180]],\n",
    "         [[179, 78]], [[319, 40]], [[459, 77]], [[562, 179]]], dtype=np.int32)]\n",
    "    return counts"
   ]
  },
  {
   "cell_type": "code",
   "execution_count": 46,
   "metadata": {},
   "outputs": [],
   "source": [
    "def array_to_tuple(arr):\n",
    "\n",
    "    return tuple(arr.reshape(1, -1)[0])"
   ]
  },
  {
   "cell_type": "code",
   "execution_count": 47,
   "metadata": {},
   "outputs": [],
   "source": [
    "def draw_contour_points(img, counts, color):\n",
    "\n",
    "    for count in counts:\n",
    "        squeeze = np.squeeze(count)\n",
    "\n",
    "        for p in squeeze:\n",
    "            pp = array_to_tuple(p)\n",
    "            cv2.circle(img, pp, 10, color, -1)\n",
    "    return img"
   ]
  },
  {
   "cell_type": "code",
   "execution_count": 48,
   "metadata": {},
   "outputs": [],
   "source": [
    "def draw_contour_outline(img, counts, color, thickness=1):\n",
    "\n",
    "    for count in counts:\n",
    "        cv2.drawContours(img, [count], 0, color, thickness)"
   ]
  },
  {
   "cell_type": "code",
   "execution_count": 49,
   "metadata": {},
   "outputs": [],
   "source": [
    "def img_plt(color_img, title, pos):\n",
    "\n",
    "    img_RGB = color_img[:, :, ::-1]\n",
    "    \n",
    "    ax = plt.subplot(1, 3, pos)\n",
    "    plt.imshow(img_RGB)\n",
    "    plt.title(title)\n",
    "    plt.axis(\"off\")"
   ]
  },
  {
   "cell_type": "code",
   "execution_count": 50,
   "metadata": {},
   "outputs": [
    {
     "data": {
      "text/plain": [
       "<Figure size 864x360 with 0 Axes>"
      ]
     },
     "metadata": {},
     "output_type": "display_data"
    }
   ],
   "source": [
    "fig = plt.figure(figsize=(12, 5))\n",
    "plt.suptitle(\"Image Contours (Moments Analysis)\")\n",
    "plt.rcParams['figure.facecolor'] = 'silver'\n"
   ]
  },
  {
   "cell_type": "code",
   "execution_count": 51,
   "metadata": {},
   "outputs": [
    {
     "name": "stdout",
     "output_type": "stream",
     "text": [
      "'detected' contours: '1' \n"
     ]
    }
   ],
   "source": [
    "# Create the canvas (black image with three channels):\n",
    "canvas = np.zeros((640, 640, 3), dtype=\"uint8\")\n",
    "\n",
    "# Get a sample contours:\n",
    "contours = get_one_contour()\n",
    "print(\"'detected' contours: '{}' \".format(len(contours)))"
   ]
  },
  {
   "cell_type": "code",
   "execution_count": 52,
   "metadata": {},
   "outputs": [],
   "source": [
    "# Create copy images to show the different results:\n",
    "image_contour_points = canvas.copy()\n",
    "image_contour_outline = canvas.copy()\n",
    "image_contour_points_outline = canvas.copy()"
   ]
  },
  {
   "cell_type": "code",
   "execution_count": 53,
   "metadata": {},
   "outputs": [],
   "source": [
    "# Drawing only contour points:\n",
    "draw_contour_points(image_contour_points, contours, (255, 0, 255))\n",
    "draw_contour_outline(image_contour_outline, contours, (0, 255, 255), -1)"
   ]
  },
  {
   "cell_type": "code",
   "execution_count": 54,
   "metadata": {},
   "outputs": [
    {
     "data": {
      "text/plain": [
       "array([[[0, 0, 0],\n",
       "        [0, 0, 0],\n",
       "        [0, 0, 0],\n",
       "        ...,\n",
       "        [0, 0, 0],\n",
       "        [0, 0, 0],\n",
       "        [0, 0, 0]],\n",
       "\n",
       "       [[0, 0, 0],\n",
       "        [0, 0, 0],\n",
       "        [0, 0, 0],\n",
       "        ...,\n",
       "        [0, 0, 0],\n",
       "        [0, 0, 0],\n",
       "        [0, 0, 0]],\n",
       "\n",
       "       [[0, 0, 0],\n",
       "        [0, 0, 0],\n",
       "        [0, 0, 0],\n",
       "        ...,\n",
       "        [0, 0, 0],\n",
       "        [0, 0, 0],\n",
       "        [0, 0, 0]],\n",
       "\n",
       "       ...,\n",
       "\n",
       "       [[0, 0, 0],\n",
       "        [0, 0, 0],\n",
       "        [0, 0, 0],\n",
       "        ...,\n",
       "        [0, 0, 0],\n",
       "        [0, 0, 0],\n",
       "        [0, 0, 0]],\n",
       "\n",
       "       [[0, 0, 0],\n",
       "        [0, 0, 0],\n",
       "        [0, 0, 0],\n",
       "        ...,\n",
       "        [0, 0, 0],\n",
       "        [0, 0, 0],\n",
       "        [0, 0, 0]],\n",
       "\n",
       "       [[0, 0, 0],\n",
       "        [0, 0, 0],\n",
       "        [0, 0, 0],\n",
       "        ...,\n",
       "        [0, 0, 0],\n",
       "        [0, 0, 0],\n",
       "        [0, 0, 0]]], dtype=uint8)"
      ]
     },
     "execution_count": 54,
     "metadata": {},
     "output_type": "execute_result"
    }
   ],
   "source": [
    "# Drawing both contour outline and points:\n",
    "draw_contour_outline(image_contour_points_outline, contours, (255, 0, 0), 3)\n",
    "draw_contour_points(image_contour_points_outline, contours, (0, 0, 255))"
   ]
  },
  {
   "cell_type": "code",
   "execution_count": 55,
   "metadata": {},
   "outputs": [
    {
     "name": "stdout",
     "output_type": "stream",
     "text": [
      "moments calculated from the detected contour: {'m00': 235283.0, 'm10': 75282991.16666666, 'm01': 75279680.83333333, 'm20': 28496148988.333332, 'm11': 24089788592.25, 'm02': 28492341886.0, 'm30': 11939291123446.25, 'm21': 9118893653727.8, 'm12': 9117775940692.967, 'm03': 11936167227424.852, 'mu20': 4408013598.184406, 'mu11': 2712402.277420044, 'mu02': 4406324849.628765, 'mu30': 595042037.7265625, 'mu21': -292162222.4824219, 'mu12': -592577546.1586914, 'mu03': 294852334.5449219, 'nu20': 0.07962727021646843, 'nu11': 4.8997396280458296e-05, 'nu02': 0.07959676431294238, 'nu30': 2.2160077537124397e-05, 'nu21': -1.0880470778779139e-05, 'nu12': -2.2068296922023203e-05, 'nu03': 1.0980653771087236e-05}\n",
      "Contour area: '235283.0'\n",
      "Contour area: '235283.0'\n",
      "center X : '320'\n",
      "center Y : '320'\n",
      "roundness: '1.023501338446455'\n",
      "eccentricity: '0.8165489265216174'\n",
      "eccentricity: '0.03434020681204824'\n",
      "aspect ratio: '1.0'\n"
     ]
    }
   ],
   "source": [
    "# Calculating image moments of the detected contour\n",
    "M = cv2.moments(contours[0])\n",
    "print(\"moments calculated from the detected contour: {}\".format(M))\n",
    "\n",
    "# 1) Calculate/show contour area using both cv2.contourArea() or m00 moment:\n",
    "print(\"Contour area: '{}'\".format(cv2.contourArea(contours[0])))\n",
    "print(\"Contour area: '{}'\".format(M['m00']))\n",
    "\n",
    "# 2) Calculate centroid:\n",
    "x_centroid = round(M['m10'] / M['m00'])\n",
    "y_centroid = round(M['m01'] / M['m00'])\n",
    "print(\"center X : '{}'\".format(x_centroid))\n",
    "print(\"center Y : '{}'\".format(y_centroid))\n",
    "\n",
    "# Draw circle based on the centroid coordinates:\n",
    "cv2.circle(image_contour_points, (x_centroid, y_centroid), 10, (255, 255, 255), -1)\n",
    "\n",
    "# 3) Calculate roundness (k):\n",
    "# roundness (k) = (perimeter * perimeter) / (Area * 4 * PI):\n",
    "# Therefore k for a circle is equal 1, for other objects > 1.\n",
    "k = roundedness(contours[0], M)\n",
    "print(\"roundness: '{}'\".format(k))\n",
    "\n",
    "# 4) Calculate eccentricity using both provided formulas:\n",
    "em = eccentricity_from_moments(M)\n",
    "print(\"eccentricity: '{}'\".format(em))\n",
    "ee = eccentricity_from_ellipse(contours[0])\n",
    "print(\"eccentricity: '{}'\".format(ee))\n",
    "\n",
    "# 5) Calculate the aspect ratio of the contour:\n",
    "ar = aspect_ratio(contours[0])\n",
    "print(\"aspect ratio: '{}'\".format(ar))"
   ]
  },
  {
   "cell_type": "code",
   "execution_count": 59,
   "metadata": {},
   "outputs": [
    {
     "data": {
      "image/png": "[encoded data removed]",
      "text/plain": [
       "<Figure size 432x288 with 3 Axes>"
      ]
     },
     "metadata": {},
     "output_type": "display_data"
    }
   ],
   "source": [
    "# Plot the images:\n",
    "img_plt(image_contour_points, \"Centroid : (\" + str(x_centroid) + \",\" + str(y_centroid) + \")\", 1)\n",
    "img_plt(image_contour_outline, \"Size: \" + str(M['m00']) + \" & Aspect ratio: \" + str(ar), 2)\n",
    "img_plt(image_contour_points_outline,\n",
    "                         \"Roundness: \" + str(round(k, 3)) + \" & Eccentricity: \" + str(round(ee, 3)), 3)\n",
    "\n",
    "plt.subplots_adjust(top=3,bottom=1.5, right=2, left=0.2, wspace=0.3, hspace=0.3)\n",
    "plt.show()"
   ]
  },
  {
   "cell_type": "code",
   "execution_count": null,
   "metadata": {},
   "outputs": [],
   "source": []
  }
 ],
 "metadata": {
  "kernelspec": {
   "display_name": "Python 3",
   "language": "python",
   "name": "python3"
  },
  "language_info": {
   "codemirror_mode": {
    "name": "ipython",
    "version": 3
   },
   "file_extension": ".py",
   "mimetype": "text/x-python",
   "name": "python",
   "nbconvert_exporter": "python",
   "pygments_lexer": "ipython3",
   "version": "3.9.9"
  }
 },
 "nbformat": 4,
 "nbformat_minor": 2
}
