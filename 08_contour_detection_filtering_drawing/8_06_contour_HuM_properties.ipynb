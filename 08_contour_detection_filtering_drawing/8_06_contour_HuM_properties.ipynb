{
 "cells": [
  {
   "cell_type": "code",
   "execution_count": 34,
   "metadata": {},
   "outputs": [],
   "source": [
    "import cv2 \n",
    "import matplotlib.pyplot as plt "
   ]
  },
  {
   "cell_type": "code",
   "execution_count": 35,
   "metadata": {},
   "outputs": [
    {
     "data": {
      "text/plain": [
       "<Figure size 1080x864 with 0 Axes>"
      ]
     },
     "metadata": {},
     "output_type": "display_data"
    }
   ],
   "source": [
    "def img_plt(color_img, title, pos):\n",
    "\n",
    "    img_RGB = color_img[:, :, ::-1]\n",
    "\n",
    "    ax = plt.subplot(1, 3, pos)\n",
    "    plt.imshow(img_RGB)\n",
    "    plt.title(title)\n",
    "    plt.axis('off')\n",
    "\n",
    "\n",
    "fig = plt.figure(figsize=(15, 12))\n",
    "plt.suptitle(\"Hu Moments invariants Properties\")\n",
    "plt.rcParams['figure.facecolor'] = 'silver'"
   ]
  },
  {
   "cell_type": "code",
   "execution_count": 36,
   "metadata": {},
   "outputs": [],
   "source": [
    "#Loading the images and converting to GrayScale\n",
    "\n",
    "image_1 = cv2.imread(\"images/shape_features.png\")\n",
    "image_2 = cv2.imread(\"images/shape_features_rotation.png\")\n",
    "image_3 = cv2.imread(\"images/shape_features_reflection.png\")\n",
    "\n",
    "gray_image_1 = cv2.cvtColor(image_1, cv2.COLOR_BGR2GRAY)\n",
    "gray_image_2 = cv2.cvtColor(image_2, cv2.COLOR_BGR2GRAY)\n",
    "gray_image_3 = cv2.cvtColor(image_3, cv2.COLOR_BGR2GRAY)"
   ]
  },
  {
   "cell_type": "code",
   "execution_count": 37,
   "metadata": {},
   "outputs": [
    {
     "data": {
      "image/png": "[encoded data removed]",
      "text/plain": [
       "<Figure size 432x288 with 3 Axes>"
      ]
     },
     "metadata": {},
     "output_type": "display_data"
    }
   ],
   "source": [
    "#Plotting the images:\n",
    "\n",
    "img_plt(image_1, \"original\", 1)\n",
    "img_plt(image_2, \"rotation\", 2)\n",
    "img_plt(image_3, \"reflection\", 3)\n",
    "\n",
    "plt.subplots_adjust(top=3,bottom=1.5, right=1.5, left=0.2, wspace=0.2, hspace=0.2)\n",
    "plt.show()"
   ]
  },
  {
   "cell_type": "code",
   "execution_count": 38,
   "metadata": {},
   "outputs": [],
   "source": [
    "#THRESHOLDING to get a binary image\n",
    "\n",
    "ret_1, thresh_1 = cv2.threshold(gray_image_1, 70, 255, cv2.THRESH_BINARY)\n",
    "ret_2, thresh_2 = cv2.threshold(gray_image_2, 70, 255, cv2.THRESH_BINARY)\n",
    "ret_2, thresh_3 = cv2.threshold(gray_image_3, 70, 255, cv2.THRESH_BINARY)"
   ]
  },
  {
   "cell_type": "code",
   "execution_count": 39,
   "metadata": {},
   "outputs": [
    {
     "name": "stdout",
     "output_type": "stream",
     "text": [
      "Hu moments (Original): '[ 1.92801772e-01  1.01173781e-02  5.70258405e-05  1.96536742e-06\n",
      "  2.46949980e-12 -1.88337981e-07  2.06595472e-11]'\n",
      "\n",
      "Hu moments (Rotation): '[ 1.92801772e-01  1.01173781e-02  5.70258405e-05  1.96536742e-06\n",
      "  2.46949980e-12 -1.88337981e-07  2.06595472e-11]'\n",
      "\n",
      "Hu moments (Reflection): '[ 1.92801772e-01  1.01173781e-02  5.70258405e-05  1.96536742e-06\n",
      "  2.46949980e-12 -1.88337981e-07 -2.06595472e-11]'\n"
     ]
    }
   ],
   "source": [
    "#Computing Hu moments cv2.HuMoments():\n",
    "HuM_1 = cv2.HuMoments(cv2.moments(thresh_1, True)).flatten()\n",
    "HuM_2 = cv2.HuMoments(cv2.moments(thresh_2, True)).flatten()\n",
    "HuM_3 = cv2.HuMoments(cv2.moments(thresh_3, True)).flatten()\n",
    "\n",
    "#Printing calculated Hu moments for the three images:\n",
    "print(\"Hu moments (Original): '{}'\".format(HuM_1))\n",
    "print(\"\")\n",
    "print(\"Hu moments (Rotation): '{}'\".format(HuM_2))\n",
    "print(\"\")\n",
    "print(\"Hu moments (Reflection): '{}'\".format(HuM_3))"
   ]
  },
  {
   "cell_type": "markdown",
   "metadata": {},
   "source": [
    "__The computed Hu moment invariants are the same in the three cases, with the exception of the seventh one__."
   ]
  }
 ],
 "metadata": {
  "kernelspec": {
   "display_name": "Python 3",
   "language": "python",
   "name": "python3"
  },
  "language_info": {
   "codemirror_mode": {
    "name": "ipython",
    "version": 3
   },
   "file_extension": ".py",
   "mimetype": "text/x-python",
   "name": "python",
   "nbconvert_exporter": "python",
   "pygments_lexer": "ipython3",
   "version": "3.9.9"
  }
 },
 "nbformat": 4,
 "nbformat_minor": 2
}
