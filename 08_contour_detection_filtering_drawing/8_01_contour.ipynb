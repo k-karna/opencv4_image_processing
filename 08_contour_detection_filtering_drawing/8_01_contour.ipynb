{
 "cells": [
  {
   "cell_type": "code",
   "execution_count": 91,
   "metadata": {},
   "outputs": [],
   "source": [
    "import numpy as np\n",
    "import cv2\n",
    "import matplotlib.pyplot as plt"
   ]
  },
  {
   "cell_type": "code",
   "execution_count": 92,
   "metadata": {},
   "outputs": [],
   "source": [
    "def draw_contour_outline(img, counts, color, thickness=1):\n",
    "\n",
    "    \"\"\" Draw contours outlines of each contour \"\"\"\n",
    "\n",
    "    for count in counts:\n",
    "        cv2.drawContours(img, [count],0, color, thickness)"
   ]
  },
  {
   "cell_type": "code",
   "execution_count": 93,
   "metadata": {},
   "outputs": [],
   "source": [
    "def build_sample_image():\n",
    "\n",
    "    \"\"\" Builds a sample image with basic shapes \"\"\"\n",
    "\n",
    "    #Creating a 500x500 gray image (70 pixel value) with a rechtange and circle shape\n",
    "\n",
    "    img = np.ones((500, 500, 3), dtype=\"uint8\") * 70\n",
    "    cv2.rectangle(img, (100, 100),(300, 300),(255, 0, 255), -1)\n",
    "    cv2.circle(img, (400, 400), 100, (255, 255, 0), -1)\n",
    "\n",
    "    return img"
   ]
  },
  {
   "cell_type": "code",
   "execution_count": 94,
   "metadata": {},
   "outputs": [],
   "source": [
    "def build_sample_image_2():\n",
    "    \"\"\"Builds a sample image with basic shapes \"\"\"\n",
    "\n",
    "    img = np.ones((500, 500, 3), dtype=\"uint8\") * 70\n",
    "    cv2.rectangle(img, (100, 100),(300, 300), (255, 0, 255), -1)\n",
    "    cv2.rectangle(img, (150, 150), (250, 250), (70, 70, 70), -1)\n",
    "    cv2.circle(img, (400, 400), 100, (255, 255, 0), -1)\n",
    "    cv2.circle(img, (400, 400), 50, (70, 70,70), -1)\n",
    "\n",
    "    return img "
   ]
  },
  {
   "cell_type": "code",
   "execution_count": 95,
   "metadata": {},
   "outputs": [
    {
     "data": {
      "text/plain": [
       "<Figure size 864x360 with 0 Axes>"
      ]
     },
     "metadata": {},
     "output_type": "display_data"
    }
   ],
   "source": [
    "def img_plt(color_img, title, pos):\n",
    "\n",
    "    img_RGB = color_img[:, :, ::-1]\n",
    "    ax = plt.subplot(1, 4, pos)\n",
    "    plt.imshow(img_RGB)\n",
    "    plt.title(title)\n",
    "    plt.axis(\"off\")\n",
    "\n",
    "fig = plt.figure(figsize=(12, 5))\n",
    "plt.suptitle(\"Contours Detection\", fontsize=14)\n",
    "plt.rcParams['figure.facecolor'] = 'silver'"
   ]
  },
  {
   "cell_type": "code",
   "execution_count": 96,
   "metadata": {},
   "outputs": [],
   "source": [
    "image = build_sample_image_2()\n",
    "gray_image = cv2.cvtColor(image, cv2.COLOR_BGR2GRAY)"
   ]
  },
  {
   "cell_type": "code",
   "execution_count": 97,
   "metadata": {},
   "outputs": [],
   "source": [
    "#Thresholding to get BINARY image\n",
    "ret, thresh = cv2.threshold(gray_image, 70, 255, cv2.THRESH_BINARY)"
   ]
  },
  {
   "cell_type": "markdown",
   "metadata": {},
   "source": [
    "Finding Contours using the thresholded image, ``cv2.findContours()`` return only the contours and the hierarchy\n",
    "\n",
    "Syntax:\n",
    "\n",
    "``cv2.findContours(image, mode, method[, contours[, hierarchy[, offset]]]) -> image,\n",
    "contours, hierarchy``"
   ]
  },
  {
   "cell_type": "markdown",
   "metadata": {},
   "source": [
    "``modes``\n",
    "\n",
    "- ``cv2.RETR_EXTERNAL`` - outputs only external the contours\n",
    "- ``cv2.RETR_LIST`` - outputs all the contours without any hierarchical relationship\n",
    "- ``cv2.RETR_TREE`` - outputs all the contours by establishing a hierarchical relationship. \n",
    "\n",
    "\n",
    "``hierarchy`` \n",
    "\n",
    "contains information about this hierarchical relationship, providing\n",
    "an entry for each detected contour. \n",
    "\n",
    "For each $i^{th}$ contour ``contours[i]``,\n",
    "\n",
    "``hierarchy[i][j]`` with j in the range [0,3] contains the following:\n",
    "\n",
    "``hierarchy[i][0]``: Index of the next contour at the same hierarchical level\n",
    "\n",
    "``hierarchy[i][1]``: Index of the previous contour at the same hierarchical\n",
    "level\n",
    "\n",
    "``hierarchy[i][2]``: Index of the first child contour\n",
    "\n",
    "``hierarchy[i][3]``: Index of the parent contour"
   ]
  },
  {
   "cell_type": "code",
   "execution_count": 98,
   "metadata": {},
   "outputs": [],
   "source": [
    "contours, hierarchy = cv2.findContours(thresh, cv2.RETR_EXTERNAL, cv2.CHAIN_APPROX_NONE)\n",
    "contours2, hierarchy2 = cv2.findContours(thresh, cv2.RETR_LIST, cv2.CHAIN_APPROX_NONE)"
   ]
  },
  {
   "cell_type": "code",
   "execution_count": 99,
   "metadata": {},
   "outputs": [
    {
     "name": "stdout",
     "output_type": "stream",
     "text": [
      "Detected Contours (RETR_EXTERNAL):'2' \n",
      "detected contours (RETR_LIST): '4' \n"
     ]
    }
   ],
   "source": [
    "print(\"Detected Contours (RETR_EXTERNAL):'{}' \".format(len(contours)) )\n",
    "print(\"detected contours (RETR_LIST): '{}' \".format(len(contours2)))"
   ]
  },
  {
   "cell_type": "code",
   "execution_count": 100,
   "metadata": {},
   "outputs": [],
   "source": [
    "draw_contour_outline(image, contours, (0, 0, 255), 5)\n",
    "draw_contour_outline(image, contours2, (255, 0, 0), 5)"
   ]
  },
  {
   "cell_type": "code",
   "execution_count": 101,
   "metadata": {},
   "outputs": [
    {
     "data": {
      "image/png": "[encoded data removed]",
      "text/plain": [
       "<Figure size 432x288 with 4 Axes>"
      ]
     },
     "metadata": {},
     "output_type": "display_data"
    }
   ],
   "source": [
    "# Plot the images:\n",
    "img_plt(image, \"image\", 1)\n",
    "img_plt(cv2.cvtColor(thresh, cv2.COLOR_GRAY2BGR), \"threshold = 100\", 2)\n",
    "img_plt(image, \"contours (RETR EXTERNAL)\", 3)\n",
    "img_plt(image, \"contours (RETR LIST)\", 4)\n",
    "\n",
    "\n",
    "plt.subplots_adjust(top=3,bottom=1.5, right=1.5, left=0.2, wspace=0.3, hspace=0.3)\n",
    "plt.show()\n"
   ]
  }
 ],
 "metadata": {
  "kernelspec": {
   "display_name": "Python 3",
   "language": "python",
   "name": "python3"
  },
  "language_info": {
   "codemirror_mode": {
    "name": "ipython",
    "version": 3
   },
   "file_extension": ".py",
   "mimetype": "text/x-python",
   "name": "python",
   "nbconvert_exporter": "python",
   "pygments_lexer": "ipython3",
   "version": "3.9.9"
  }
 },
 "nbformat": 4,
 "nbformat_minor": 2
}
