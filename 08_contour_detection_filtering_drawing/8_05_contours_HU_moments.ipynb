{
 "cells": [
  {
   "cell_type": "markdown",
   "metadata": {},
   "source": [
    "1. ``Hu moment`` invariants are __invariant with respect to translation, scale, and\n",
    "rotation__ \n",
    "\n",
    "2. __All the moments__ (except the seventh one) __are invariant to\n",
    "reflection__. In the case of the seventh one, the sign has been changed by\n",
    "reflection, which enables it to distinguish mirror images."
   ]
  },
  {
   "cell_type": "code",
   "execution_count": 27,
   "metadata": {},
   "outputs": [],
   "source": [
    "import cv2\n",
    "from matplotlib import pyplot as plt"
   ]
  },
  {
   "cell_type": "code",
   "execution_count": 28,
   "metadata": {},
   "outputs": [],
   "source": [
    "\n",
    "def centroid(moments):\n",
    "    \"\"\"Returns centroid based on moments\"\"\"\n",
    "\n",
    "    x_centroid = round(moments['m10'] / moments['m00'])\n",
    "    y_centroid = round(moments['m01'] / moments['m00'])\n",
    "    return x_centroid, y_centroid\n",
    "\n",
    "\n",
    "def draw_contour_outline(img, cnts, color, thickness=1):\n",
    "    \"\"\"Draws contours outlines of each contour\"\"\"\n",
    "\n",
    "    for cnt in cnts:\n",
    "        cv2.drawContours(img, [cnt], 0, color, thickness)"
   ]
  },
  {
   "cell_type": "code",
   "execution_count": 29,
   "metadata": {},
   "outputs": [
    {
     "data": {
      "text/plain": [
       "<Figure size 864x360 with 0 Axes>"
      ]
     },
     "metadata": {},
     "output_type": "display_data"
    }
   ],
   "source": [
    "def img_plt(color_img, title, pos):\n",
    "    \"\"\"Shows an image using matplotlib capabilities\"\"\"\n",
    "\n",
    "    # Convert BGR image to RGB\n",
    "    img_RGB = color_img[:, :, ::-1]\n",
    "\n",
    "    ax = plt.subplot(1, 1, pos)\n",
    "    plt.imshow(img_RGB)\n",
    "    plt.title(title)\n",
    "    plt.axis('off')\n",
    "\n",
    "\n",
    "# Create the dimensions of the figure and set title:\n",
    "fig = plt.figure(figsize=(12, 5))\n",
    "plt.suptitle(\"Hu moments\", fontsize=14, fontweight='bold')\n",
    "plt.rcParams['figure.facecolor'] = 'silver'"
   ]
  },
  {
   "cell_type": "code",
   "execution_count": 30,
   "metadata": {},
   "outputs": [],
   "source": [
    "#Loading the image\n",
    "image = cv2.imread(\"images/shape_features.png\")\n",
    "gray_image = cv2.cvtColor(image, cv2.COLOR_BGR2GRAY)"
   ]
  },
  {
   "cell_type": "code",
   "execution_count": 31,
   "metadata": {},
   "outputs": [],
   "source": [
    "#Thresholding\n",
    "ret, thresh = cv2.threshold(gray_image, 70, 255, cv2.THRESH_BINARY)"
   ]
  },
  {
   "cell_type": "code",
   "execution_count": 32,
   "metadata": {},
   "outputs": [
    {
     "name": "stdout",
     "output_type": "stream",
     "text": [
      "Moments: '{'m00': 203750.0, 'm10': 124935453.0, 'm01': 55115564.0, 'm20': 82543492477.0, 'm11': 33008079479.0, 'm02': 16977512254.0, 'm30': 57928322545653.0, 'm21': 21360792880195.0, 'm12': 9949984821083.0, 'm03': 5739523802738.0, 'mu20': 5935554237.416153, 'mu11': -787689628.6833992, 'mu02': 2068430560.561491, 'mu30': 35164559241.21875, 'mu21': -1712254694.2646484, 'mu12': -34139193556.8479, 'mu03': 27962590092.666016, 'nu20': 0.14297695479492406, 'nu11': -0.01897404352280385, 'nu02': 0.04982481684517122, 'nu30': 0.001876554295887196, 'nu21': -9.137435450659671e-05, 'nu12': -0.0018218357263563713, 'nu03': 0.0014922217054555782}' \n"
     ]
    }
   ],
   "source": [
    "#calculating Moments\n",
    "M = cv2.moments(thresh, True)\n",
    "print(\"Moments: '{}' \".format(M))"
   ]
  },
  {
   "cell_type": "code",
   "execution_count": 33,
   "metadata": {},
   "outputs": [
    {
     "name": "stdout",
     "output_type": "stream",
     "text": [
      "613 271\n"
     ]
    }
   ],
   "source": [
    "#calculating the CENTROID of the Contour Based on Moments\n",
    "x, y = centroid(M)\n",
    "print(x, y)"
   ]
  },
  {
   "cell_type": "code",
   "execution_count": 34,
   "metadata": {},
   "outputs": [
    {
     "name": "stdout",
     "output_type": "stream",
     "text": [
      "Hu Moment: '[[ 1.92801772e-01]\n",
      " [ 1.01173781e-02]\n",
      " [ 5.70258405e-05]\n",
      " [ 1.96536742e-06]\n",
      " [ 2.46949980e-12]\n",
      " [-1.88337981e-07]\n",
      " [ 2.06595472e-11]]' \n"
     ]
    }
   ],
   "source": [
    "#calculating Hu Moment\n",
    "HuM = cv2.HuMoments(M)\n",
    "print(\"Hu Moment: '{}' \".format(HuM))"
   ]
  },
  {
   "cell_type": "markdown",
   "metadata": {},
   "source": [
    "Finding Contours in the THRESHOLDED Image"
   ]
  },
  {
   "cell_type": "code",
   "execution_count": 35,
   "metadata": {},
   "outputs": [
    {
     "name": "stdout",
     "output_type": "stream",
     "text": [
      "Moment in Thresholded Image: '{'m00': 202785.0, 'm10': 124372379.0, 'm01': 54829844.0, 'm20': 82168467695.5, 'm11': 32850490115.583332, 'm02': 16869833345.166666, 'm30': 57652475508413.1, 'm21': 21260883323130.867, 'm12': 9892816761440.7, 'm03': 5694476209814.601, 'mu20': 5888226759.929611, 'mu11': -777826271.1261177, 'mu02': 2044714164.4366512, 'mu30': 34045414856.882812, 'mu21': -2050611262.6801758, 'mu12': -33189206762.140137, 'mu03': 27424662891.551758, 'nu20': 0.14319006045636395, 'nu11': -0.01891520067553043, 'nu02': 0.04972341534366583, 'nu30': 0.0018385229812255984, 'nu21': -0.00011073725927106339, 'nu12': -0.0017922859691194718, 'nu03': 0.00148098864973265}'\n"
     ]
    }
   ],
   "source": [
    "contours, heirarchy = cv2.findContours(thresh, cv2.RETR_EXTERNAL, cv2.CHAIN_APPROX_NONE)\n",
    "\n",
    "#computing Moments\n",
    "M2= cv2.moments(contours[0])\n",
    "print(\"Moment in Thresholded Image: '{}'\".format(M2))"
   ]
  },
  {
   "cell_type": "code",
   "execution_count": 36,
   "metadata": {},
   "outputs": [
    {
     "name": "stdout",
     "output_type": "stream",
     "text": [
      "613 270\n"
     ]
    }
   ],
   "source": [
    "#calculating centroid\n",
    "x2, y2 = centroid(M2)\n",
    "print(x2, y2)"
   ]
  },
  {
   "cell_type": "code",
   "execution_count": 37,
   "metadata": {},
   "outputs": [
    {
     "name": "stdout",
     "output_type": "stream",
     "text": [
      "Hu Moments in Thresholded Image: '[[ 1.92913476e-01]\n",
      " [ 1.01671530e-02]\n",
      " [ 5.53494172e-05]\n",
      " [ 1.87972673e-06]\n",
      " [ 2.77053346e-12]\n",
      " [-1.80085705e-07]\n",
      " [ 1.89721511e-11]]'\n"
     ]
    }
   ],
   "source": [
    "#Computing Hu Moment\n",
    "Hum2 = cv2.HuMoments(M2)\n",
    "print(\"Hu Moments in Thresholded Image: '{}'\".format(Hum2))"
   ]
  },
  {
   "cell_type": "markdown",
   "metadata": {},
   "source": [
    "Drawing Contours and Centroids"
   ]
  },
  {
   "cell_type": "code",
   "execution_count": 38,
   "metadata": {},
   "outputs": [
    {
     "data": {
      "image/png": "[encoded data removed]",
      "text/plain": [
       "<Figure size 432x288 with 1 Axes>"
      ]
     },
     "metadata": {},
     "output_type": "display_data"
    }
   ],
   "source": [
    "draw_contour_outline(image, contours, (255, 0, 0), 10)\n",
    "\n",
    "#drawing centroids\n",
    "cv2.circle(image, (x, y), 25, (255, 0, 0), -1)\n",
    "cv2.circle(image, (x2, y2), 25, (0, 255, 0), -1)\n",
    "\n",
    "img_plt(image, \"Detected Contours and Centroids\", 1)\n",
    "plt.show()\n"
   ]
  },
  {
   "cell_type": "code",
   "execution_count": null,
   "metadata": {},
   "outputs": [],
   "source": []
  }
 ],
 "metadata": {
  "kernelspec": {
   "display_name": "Python 3",
   "language": "python",
   "name": "python3"
  },
  "language_info": {
   "codemirror_mode": {
    "name": "ipython",
    "version": 3
   },
   "file_extension": ".py",
   "mimetype": "text/x-python",
   "name": "python",
   "nbconvert_exporter": "python",
   "pygments_lexer": "ipython3",
   "version": "3.9.9"
  }
 },
 "nbformat": 4,
 "nbformat_minor": 2
}
