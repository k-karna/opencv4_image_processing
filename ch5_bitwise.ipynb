{
 "cells": [
  {
   "cell_type": "code",
   "execution_count": 32,
   "metadata": {},
   "outputs": [],
   "source": [
    "import cv2 \n",
    "import numpy as np \n",
    "import matplotlib.pyplot as plt "
   ]
  },
  {
   "cell_type": "code",
   "execution_count": 33,
   "metadata": {},
   "outputs": [
    {
     "data": {
      "text/plain": [
       "Text(0.5, 0.98, 'Bitwise Operations (AND, OR, XOR, NOT)')"
      ]
     },
     "execution_count": 33,
     "metadata": {},
     "output_type": "execute_result"
    },
    {
     "data": {
      "text/plain": [
       "<Figure size 864x432 with 0 Axes>"
      ]
     },
     "metadata": {},
     "output_type": "display_data"
    }
   ],
   "source": [
    "def show_with_plt(color_img, title, pos):\n",
    "\n",
    "    #Convert BGR image to RGB\n",
    "    img_RGB = color_img[:, :, ::-1]\n",
    "\n",
    "    ax = plt.subplot(3, 3, pos)\n",
    "    plt.imshow(img_RGB)\n",
    "    plt.title(title)\n",
    "    plt.axis(\"off\")\n",
    "\n",
    "plt.figure(figsize=(12, 6))\n",
    "plt.suptitle(\"Bitwise Operations (AND, OR, XOR, NOT)\", fontsize=14, fontweight=\"bold\")"
   ]
  },
  {
   "cell_type": "code",
   "execution_count": 34,
   "metadata": {},
   "outputs": [
    {
     "data": {
      "text/plain": [
       "array([[0, 0, 0, ..., 0, 0, 0],\n",
       "       [0, 0, 0, ..., 0, 0, 0],\n",
       "       [0, 0, 0, ..., 0, 0, 0],\n",
       "       ...,\n",
       "       [0, 0, 0, ..., 0, 0, 0],\n",
       "       [0, 0, 0, ..., 0, 0, 0],\n",
       "       [0, 0, 0, ..., 0, 0, 0]], dtype=uint8)"
      ]
     },
     "execution_count": 34,
     "metadata": {},
     "output_type": "execute_result"
    }
   ],
   "source": [
    "img_1 = np.zeros((300,300), dtype=\"uint8\")\n",
    "cv2.rectangle(img_1, (10, 10), (110, 110), (255, 255, 255), -1)\n",
    "cv2.circle(img_1, (200, 200), 50, (255, 255, 255), -1)"
   ]
  },
  {
   "cell_type": "code",
   "execution_count": 35,
   "metadata": {},
   "outputs": [
    {
     "data": {
      "text/plain": [
       "array([[0, 0, 0, ..., 0, 0, 0],\n",
       "       [0, 0, 0, ..., 0, 0, 0],\n",
       "       [0, 0, 0, ..., 0, 0, 0],\n",
       "       ...,\n",
       "       [0, 0, 0, ..., 0, 0, 0],\n",
       "       [0, 0, 0, ..., 0, 0, 0],\n",
       "       [0, 0, 0, ..., 0, 0, 0]], dtype=uint8)"
      ]
     },
     "execution_count": 35,
     "metadata": {},
     "output_type": "execute_result"
    }
   ],
   "source": [
    "img_2 = np.zeros((300,300), dtype=\"uint8\")\n",
    "cv2.rectangle(img_2, (50, 50), (150, 150), (255, 255, 255), -1)\n",
    "cv2.circle(img_2, (225, 200), 50, (255, 255, 255), -1)\n"
   ]
  },
  {
   "cell_type": "code",
   "execution_count": 36,
   "metadata": {},
   "outputs": [],
   "source": [
    "#Bitwise OR\n",
    "bitwise_or = cv2.bitwise_or(img_1, img_2)\n",
    "\n",
    "#Bitwise AND\n",
    "bitwise_and = cv2.bitwise_and(img_1, img_2)\n",
    "\n",
    "#Bitwise XOR\n",
    "bitwise_xor = cv2.bitwise_xor(img_1, img_2)\n",
    "\n",
    "#Bitwise NOT \n",
    "bitwise_not_1 = cv2.bitwise_not(img_1)\n",
    "\n",
    "#Bitwise NOT \n",
    "bitwise_not_2 = cv2.bitwise_not(img_2)"
   ]
  },
  {
   "cell_type": "code",
   "execution_count": 37,
   "metadata": {},
   "outputs": [
    {
     "data": {
      "image/png": "[encoded data removed]",
      "text/plain": [
       "<Figure size 432x288 with 7 Axes>"
      ]
     },
     "metadata": {
      "needs_background": "light"
     },
     "output_type": "display_data"
    }
   ],
   "source": [
    "show_with_plt(cv2.cvtColor(img_1, cv2.COLOR_GRAY2BGR), \"Image 1\", 1)\n",
    "show_with_plt(cv2.cvtColor(img_2, cv2.COLOR_GRAY2BGR), \"Image 2\", 2)\n",
    "show_with_plt(cv2.cvtColor(bitwise_or, cv2.COLOR_GRAY2BGR), \"Image 1 or Image 2\", 3)\n",
    "show_with_plt(cv2.cvtColor(bitwise_and, cv2.COLOR_GRAY2BGR), \"Image 1 and Image 2\", 4)\n",
    "show_with_plt(cv2.cvtColor(bitwise_xor, cv2.COLOR_GRAY2BGR), \"Image 1 XOR Image 2\", 5)\n",
    "show_with_plt(cv2.cvtColor(bitwise_not_1, cv2.COLOR_GRAY2BGR),\"Not (image 1)\", 6)\n",
    "show_with_plt(cv2.cvtColor(bitwise_not_2, cv2.COLOR_GRAY2BGR), \"Not (image 2)\", 7)\n",
    "\n",
    "plt.subplots_adjust(left=0.1, right=0.9, top=0.9, bottom=0.1, wspace=0.4, hspace=0.4)\n",
    "plt.tight_layout()\n",
    "plt.show()"
   ]
  },
  {
   "cell_type": "code",
   "execution_count": 38,
   "metadata": {},
   "outputs": [],
   "source": [
    "image = cv2.imread(\"images/cat.png\")"
   ]
  },
  {
   "cell_type": "code",
   "execution_count": 39,
   "metadata": {},
   "outputs": [
    {
     "data": {
      "text/plain": [
       "array([[0, 0, 0, ..., 0, 0, 0],\n",
       "       [0, 0, 0, ..., 0, 0, 0],\n",
       "       [0, 0, 0, ..., 0, 0, 0],\n",
       "       ...,\n",
       "       [0, 0, 0, ..., 0, 0, 0],\n",
       "       [0, 0, 0, ..., 0, 0, 0],\n",
       "       [0, 0, 0, ..., 0, 0, 0]], dtype=uint8)"
      ]
     },
     "execution_count": 39,
     "metadata": {},
     "output_type": "execute_result"
    }
   ],
   "source": [
    "#Creating the image to be used as MASK\n",
    "\n",
    "img_3 = np.zeros((300,300), dtype=\"uint8\")\n",
    "cv2.circle(img_3, (150, 150),150, (255, 255, 255), -1)"
   ]
  },
  {
   "cell_type": "code",
   "execution_count": 40,
   "metadata": {},
   "outputs": [],
   "source": [
    "#bitwise AND using the img_3 as mask\n",
    "\n",
    "bitwise_and_example = cv2.bitwise_and(image, image, mask=img_3)"
   ]
  },
  {
   "cell_type": "code",
   "execution_count": 41,
   "metadata": {},
   "outputs": [
    {
     "data": {
      "image/png": "[encoded data removed]",
      "text/plain": [
       "<Figure size 432x288 with 2 Axes>"
      ]
     },
     "metadata": {
      "needs_background": "light"
     },
     "output_type": "display_data"
    }
   ],
   "source": [
    "# Show these two images:\n",
    "\n",
    "show_with_plt(cv2.cvtColor(img_3, cv2.COLOR_GRAY2BGR), \"Image 3\", 8)\n",
    "show_with_plt(bitwise_and_example, \"Image 3 AND a loaded Image\", 9)\n",
    "\n",
    "plt.subplots_adjust(left=0.1, right=0.9, top=0.9, bottom=0.1, wspace=0.4, hspace=0.4)\n",
    "plt.tight_layout()\n",
    "plt.show()"
   ]
  },
  {
   "cell_type": "markdown",
   "metadata": {},
   "source": [
    "``Bitwise`` Opertations with IMAGES"
   ]
  },
  {
   "cell_type": "markdown",
   "metadata": {},
   "source": []
  }
 ],
 "metadata": {
  "kernelspec": {
   "display_name": "Python 3",
   "language": "python",
   "name": "python3"
  },
  "language_info": {
   "codemirror_mode": {
    "name": "ipython",
    "version": 3
   },
   "file_extension": ".py",
   "mimetype": "text/x-python",
   "name": "python",
   "nbconvert_exporter": "python",
   "pygments_lexer": "ipython3",
   "version": "3.9.9"
  }
 },
 "nbformat": 4,
 "nbformat_minor": 2
}
